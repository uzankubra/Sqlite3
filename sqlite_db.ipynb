{
 "cells": [
  {
   "cell_type": "code",
   "execution_count": 1,
   "id": "212637e3",
   "metadata": {},
   "outputs": [],
   "source": [
    "import sqlite3\n",
    "from sqlite3 import Error"
   ]
  },
  {
   "cell_type": "code",
   "execution_count": 2,
   "id": "62fae412",
   "metadata": {},
   "outputs": [],
   "source": [
    "def connection_create(db_file):\n",
    "    con=None\n",
    "    try:\n",
    "        con=sqlite3.connect(db_file)\n",
    "        print(\"connection created.\")\n",
    "    except Error as e:\n",
    "        print(\"An error occurred.\", e)\n",
    "    return con"
   ]
  },
  {
   "cell_type": "code",
   "execution_count": 3,
   "id": "e8fbef87",
   "metadata": {},
   "outputs": [
    {
     "name": "stdout",
     "output_type": "stream",
     "text": [
      "connection created.\n"
     ]
    }
   ],
   "source": [
    "sqlite_connection= connection_create(\"kutuphane.db\")"
   ]
  },
  {
   "cell_type": "code",
   "execution_count": 4,
   "id": "d8075305",
   "metadata": {},
   "outputs": [],
   "source": [
    "if (sqlite_connection==None):\n",
    "    print(\"Connection failed. Checking out.\")\n",
    "    exit()"
   ]
  },
  {
   "cell_type": "markdown",
   "id": "025bd0b1",
   "metadata": {},
   "source": [
    "## Tablo Oluşturma"
   ]
  },
  {
   "cell_type": "code",
   "execution_count": 5,
   "id": "8e4cda83",
   "metadata": {},
   "outputs": [],
   "source": [
    "cursor= sqlite_connection.cursor()"
   ]
  },
  {
   "cell_type": "code",
   "execution_count": 6,
   "id": "7f01a05a",
   "metadata": {},
   "outputs": [],
   "source": [
    "def table_create(curs):\n",
    "    try:\n",
    "        curs.execute(\"CREATE TABLE IF NOT EXISTS kitaplar (kitapadi TEXT, yazar TEXT, kitapno INT, sayfasayisi INT )\")\n",
    "    except Error as e:\n",
    "        print(\"An error occurred.\", e)\n",
    "            "
   ]
  },
  {
   "cell_type": "code",
   "execution_count": 7,
   "id": "2829a6a0",
   "metadata": {},
   "outputs": [],
   "source": [
    "table_create(cursor)\n",
    "sqlite_connection.commit()"
   ]
  },
  {
   "cell_type": "markdown",
   "id": "c7a66655",
   "metadata": {},
   "source": [
    "## Tabloya Kayıt Atma İşlemi"
   ]
  },
  {
   "cell_type": "code",
   "execution_count": 8,
   "id": "31a73c20",
   "metadata": {},
   "outputs": [
    {
     "data": {
      "text/plain": [
       "<sqlite3.Cursor at 0x1cf2c663b90>"
      ]
     },
     "execution_count": 8,
     "metadata": {},
     "output_type": "execute_result"
    }
   ],
   "source": [
    "cursor.execute(\"INSERT INTO kitaplar VALUES ('Dune', 'Frank Herbert', 1001, 296)\")"
   ]
  },
  {
   "cell_type": "code",
   "execution_count": 9,
   "id": "9fbf453c",
   "metadata": {},
   "outputs": [],
   "source": [
    "sqlite_connection.commit()"
   ]
  },
  {
   "cell_type": "code",
   "execution_count": 10,
   "id": "fb947b1f",
   "metadata": {},
   "outputs": [
    {
     "data": {
      "text/plain": [
       "<sqlite3.Cursor at 0x1cf2c663b90>"
      ]
     },
     "execution_count": 10,
     "metadata": {},
     "output_type": "execute_result"
    }
   ],
   "source": [
    "cursor.execute(\"INSERT INTO kitaplar VALUES ('Yüzüklerin Efendisi', 'J.R.R.', 1003, 1026)\")"
   ]
  },
  {
   "cell_type": "code",
   "execution_count": 11,
   "id": "2c382c66",
   "metadata": {},
   "outputs": [],
   "source": [
    "sqlite_connection.commit()"
   ]
  },
  {
   "cell_type": "markdown",
   "id": "9d44bad0",
   "metadata": {},
   "source": [
    "## Tablodan Veri Çekme"
   ]
  },
  {
   "cell_type": "code",
   "execution_count": 12,
   "id": "36cc522a",
   "metadata": {},
   "outputs": [
    {
     "data": {
      "text/plain": [
       "<sqlite3.Cursor at 0x1cf2c663b90>"
      ]
     },
     "execution_count": 12,
     "metadata": {},
     "output_type": "execute_result"
    }
   ],
   "source": [
    "cursor.execute(\"SELECT * FROM kitaplar\")"
   ]
  },
  {
   "cell_type": "code",
   "execution_count": 13,
   "id": "8dc2c473",
   "metadata": {},
   "outputs": [],
   "source": [
    "data= cursor.fetchall()"
   ]
  },
  {
   "cell_type": "code",
   "execution_count": 14,
   "id": "9613c170",
   "metadata": {},
   "outputs": [
    {
     "name": "stdout",
     "output_type": "stream",
     "text": [
      "('Dune', 'Frank Herbert', 1001, 296)\n",
      "('Yüzüklerin Efendisi', 'J.R.R.', 1003, 1026)\n",
      "('Dune', 'Frank Herbert', 1001, 296)\n",
      "('Yüzüklerin Efendisi', 'J.R.R.', 1003, 1026)\n"
     ]
    }
   ],
   "source": [
    "for each in data:\n",
    "    print(each)"
   ]
  },
  {
   "cell_type": "code",
   "execution_count": 15,
   "id": "f563d777",
   "metadata": {},
   "outputs": [
    {
     "data": {
      "text/plain": [
       "<sqlite3.Cursor at 0x1cf2c663b90>"
      ]
     },
     "execution_count": 15,
     "metadata": {},
     "output_type": "execute_result"
    }
   ],
   "source": [
    "cursor.execute(\"SELECT * FROM kitaplar WHERE sayfasayisi>400\")"
   ]
  },
  {
   "cell_type": "code",
   "execution_count": 16,
   "id": "8b97ac7a",
   "metadata": {},
   "outputs": [],
   "source": [
    "data= cursor.fetchall()"
   ]
  },
  {
   "cell_type": "code",
   "execution_count": 17,
   "id": "c01dd912",
   "metadata": {},
   "outputs": [
    {
     "name": "stdout",
     "output_type": "stream",
     "text": [
      "('Yüzüklerin Efendisi', 'J.R.R.', 1003, 1026)\n",
      "('Yüzüklerin Efendisi', 'J.R.R.', 1003, 1026)\n"
     ]
    }
   ],
   "source": [
    "for each in data:\n",
    "    print(each)"
   ]
  },
  {
   "cell_type": "code",
   "execution_count": 18,
   "id": "976d2fd3",
   "metadata": {},
   "outputs": [
    {
     "data": {
      "text/plain": [
       "<sqlite3.Cursor at 0x1cf2c663b90>"
      ]
     },
     "execution_count": 18,
     "metadata": {},
     "output_type": "execute_result"
    }
   ],
   "source": [
    "cursor.execute(\"SELECT * FROM kitaplar WHERE yazar= 'J.R.R.' \")"
   ]
  },
  {
   "cell_type": "code",
   "execution_count": 19,
   "id": "60ff859f",
   "metadata": {},
   "outputs": [],
   "source": [
    "data= cursor.fetchall()"
   ]
  },
  {
   "cell_type": "code",
   "execution_count": 20,
   "id": "339b5718",
   "metadata": {},
   "outputs": [
    {
     "name": "stdout",
     "output_type": "stream",
     "text": [
      "('Yüzüklerin Efendisi', 'J.R.R.', 1003, 1026)\n",
      "('Yüzüklerin Efendisi', 'J.R.R.', 1003, 1026)\n"
     ]
    }
   ],
   "source": [
    "for each in data:\n",
    "    print(each)"
   ]
  },
  {
   "cell_type": "markdown",
   "id": "797b8beb",
   "metadata": {},
   "source": [
    "## Tablodaki Verileri Güncelleme"
   ]
  },
  {
   "cell_type": "code",
   "execution_count": 21,
   "id": "e7b9accc",
   "metadata": {},
   "outputs": [
    {
     "data": {
      "text/plain": [
       "<sqlite3.Cursor at 0x1cf2c663b90>"
      ]
     },
     "execution_count": 21,
     "metadata": {},
     "output_type": "execute_result"
    }
   ],
   "source": [
    "cursor.execute(\"UPDATE kitaplar SET sayfasayisi =999 where sayfasayisi>400\")"
   ]
  },
  {
   "cell_type": "code",
   "execution_count": 22,
   "id": "b0030e33",
   "metadata": {},
   "outputs": [
    {
     "name": "stdout",
     "output_type": "stream",
     "text": [
      "('Dune', 'Frank Herbert', 1001, 296)\n",
      "('Yüzüklerin Efendisi', 'J.R.R.', 1003, 999)\n",
      "('Dune', 'Frank Herbert', 1001, 296)\n",
      "('Yüzüklerin Efendisi', 'J.R.R.', 1003, 999)\n"
     ]
    }
   ],
   "source": [
    "cursor.execute(\"SELECT * FROM kitaplar \")\n",
    "data= cursor.fetchall()\n",
    "for each in data:\n",
    "    print(each)"
   ]
  },
  {
   "cell_type": "code",
   "execution_count": 23,
   "id": "1965e255",
   "metadata": {},
   "outputs": [],
   "source": [
    "sqlite_connection.commit()"
   ]
  },
  {
   "cell_type": "markdown",
   "id": "5758bf49",
   "metadata": {},
   "source": [
    "## Tablodaki Verileri Silme"
   ]
  },
  {
   "cell_type": "code",
   "execution_count": 24,
   "id": "844e52cd",
   "metadata": {},
   "outputs": [
    {
     "data": {
      "text/plain": [
       "<sqlite3.Cursor at 0x1cf2c663b90>"
      ]
     },
     "execution_count": 24,
     "metadata": {},
     "output_type": "execute_result"
    }
   ],
   "source": [
    "cursor.execute(\"delete from kitaplar where kitapno=1001 \")"
   ]
  },
  {
   "cell_type": "code",
   "execution_count": 25,
   "id": "206b65ba",
   "metadata": {},
   "outputs": [],
   "source": [
    "sqlite_connection.commit()"
   ]
  },
  {
   "cell_type": "code",
   "execution_count": 26,
   "id": "ba984064",
   "metadata": {},
   "outputs": [
    {
     "name": "stdout",
     "output_type": "stream",
     "text": [
      "('Yüzüklerin Efendisi', 'J.R.R.', 1003, 999)\n",
      "('Yüzüklerin Efendisi', 'J.R.R.', 1003, 999)\n"
     ]
    }
   ],
   "source": [
    "cursor.execute(\"SELECT * FROM kitaplar \")\n",
    "data= cursor.fetchall()\n",
    "for each in data:\n",
    "    print(each)"
   ]
  },
  {
   "cell_type": "code",
   "execution_count": 27,
   "id": "e8e35ad6",
   "metadata": {},
   "outputs": [],
   "source": [
    "if sqlite_connection:\n",
    "    sqlite_connection.close()"
   ]
  },
  {
   "cell_type": "code",
   "execution_count": null,
   "id": "a3b1dc64",
   "metadata": {},
   "outputs": [],
   "source": []
  }
 ],
 "metadata": {
  "kernelspec": {
   "display_name": "Python 3 (ipykernel)",
   "language": "python",
   "name": "python3"
  },
  "language_info": {
   "codemirror_mode": {
    "name": "ipython",
    "version": 3
   },
   "file_extension": ".py",
   "mimetype": "text/x-python",
   "name": "python",
   "nbconvert_exporter": "python",
   "pygments_lexer": "ipython3",
   "version": "3.9.12"
  }
 },
 "nbformat": 4,
 "nbformat_minor": 5
}
